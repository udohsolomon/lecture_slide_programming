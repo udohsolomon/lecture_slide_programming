{
 "cells": [
  {
   "cell_type": "code",
   "execution_count": 109,
   "metadata": {},
   "outputs": [
    {
     "name": "stdout",
     "output_type": "stream",
     "text": [
      "Enter characters: abcdefghijklmnopqrstuvwxyz\n",
      "                         a\n",
      "                        aba\n",
      "                       abcba\n",
      "                      abcdcba\n",
      "                     abcdedcba\n",
      "                    abcdefedcba\n",
      "                   abcdefgfedcba\n",
      "                  abcdefghgfedcba\n",
      "                 abcdefghihgfedcba\n",
      "                abcdefghijihgfedcba\n",
      "               abcdefghijkjihgfedcba\n",
      "              abcdefghijklkjihgfedcba\n",
      "             abcdefghijklmlkjihgfedcba\n",
      "            abcdefghijklmnmlkjihgfedcba\n",
      "           abcdefghijklmnonmlkjihgfedcba\n",
      "          abcdefghijklmnoponmlkjihgfedcba\n",
      "         abcdefghijklmnopqponmlkjihgfedcba\n",
      "        abcdefghijklmnopqrqponmlkjihgfedcba\n",
      "       abcdefghijklmnopqrsrqponmlkjihgfedcba\n",
      "      abcdefghijklmnopqrstsrqponmlkjihgfedcba\n",
      "     abcdefghijklmnopqrstutsrqponmlkjihgfedcba\n",
      "    abcdefghijklmnopqrstuvutsrqponmlkjihgfedcba\n",
      "   abcdefghijklmnopqrstuvwvutsrqponmlkjihgfedcba\n",
      "  abcdefghijklmnopqrstuvwxwvutsrqponmlkjihgfedcba\n",
      " abcdefghijklmnopqrstuvwxyxwvutsrqponmlkjihgfedcba\n",
      "abcdefghijklmnopqrstuvwxyzyxwvutsrqponmlkjihgfedcba\n",
      " abcdefghijklmnopqrstuvwxyxwvutsrqponmlkjihgfedcba\n",
      "  abcdefghijklmnopqrstuvwxwvutsrqponmlkjihgfedcba\n",
      "   abcdefghijklmnopqrstuvwvutsrqponmlkjihgfedcba\n",
      "    abcdefghijklmnopqrstuvutsrqponmlkjihgfedcba\n",
      "     abcdefghijklmnopqrstutsrqponmlkjihgfedcba\n",
      "      abcdefghijklmnopqrstsrqponmlkjihgfedcba\n",
      "       abcdefghijklmnopqrsrqponmlkjihgfedcba\n",
      "        abcdefghijklmnopqrqponmlkjihgfedcba\n",
      "         abcdefghijklmnopqponmlkjihgfedcba\n",
      "          abcdefghijklmnoponmlkjihgfedcba\n",
      "           abcdefghijklmnonmlkjihgfedcba\n",
      "            abcdefghijklmnmlkjihgfedcba\n",
      "             abcdefghijklmlkjihgfedcba\n",
      "              abcdefghijklkjihgfedcba\n",
      "               abcdefghijkjihgfedcba\n",
      "                abcdefghijihgfedcba\n",
      "                 abcdefghihgfedcba\n",
      "                  abcdefghgfedcba\n",
      "                   abcdefgfedcba\n",
      "                    abcdefedcba\n",
      "                     abcdedcba\n",
      "                      abcdcba\n",
      "                       abcba\n",
      "                        aba\n",
      "                         a\n"
     ]
    }
   ],
   "source": [
    "word=input(\"Enter characters: \")\n",
    "length=len(word)\n",
    "for i in range (0, length):\n",
    "    for j in range(length-i-1):\n",
    "        print(' ', end=\"\")\n",
    "    for j in range(0, i+1):\n",
    "        print(word[j], end=\"\")\n",
    "    for k in range (i-1, -1, -1):\n",
    "        print (word[k], end=\"\")\n",
    "    print()\n",
    "for l in range (1,length):\n",
    "    for j in range(l) :\n",
    "        print(' ', end=\"\")\n",
    "    for m in range (0,length-l-1):\n",
    "        print(word[m], end =\"\")\n",
    "    for n in range (length-l-1,-1,-1):\n",
    "        print(word[n], end=\"\")\n",
    "    print()"
   ]
  }
 ],
 "metadata": {
  "kernelspec": {
   "display_name": "Python 3",
   "language": "python",
   "name": "python3"
  },
  "language_info": {
   "codemirror_mode": {
    "name": "ipython",
    "version": 3
   },
   "file_extension": ".py",
   "mimetype": "text/x-python",
   "name": "python",
   "nbconvert_exporter": "python",
   "pygments_lexer": "ipython3",
   "version": "3.6.5"
  }
 },
 "nbformat": 4,
 "nbformat_minor": 2
}
