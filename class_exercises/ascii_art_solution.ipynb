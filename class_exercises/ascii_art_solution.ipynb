{
 "cells": [
  {
   "cell_type": "code",
   "execution_count": 109,
   "metadata": {},
   "outputs": [
    {
     "name": "stdout",
     "output_type": "stream",
     "text": [
      "Enter characters: abcdefghijklmnopqrstuvwxyz\n",
      "                         a\n",
      "                        aba\n",
      "                       abcba\n",
      "                      abcdcba\n",
      "                     abcdedcba\n",
      "                    abcdefedcba\n",
      "                   abcdefgfedcba\n",
      "                  abcdefghgfedcba\n",
      "                 abcdefghihgfedcba\n",
      "                abcdefghijihgfedcba\n",
      "               abcdefghijkjihgfedcba\n",
      "              abcdefghijklkjihgfedcba\n",
      "             abcdefghijklmlkjihgfedcba\n",
      "            abcdefghijklmnmlkjihgfedcba\n",
      "           abcdefghijklmnonmlkjihgfedcba\n",
      "          abcdefghijklmnoponmlkjihgfedcba\n",
      "         abcdefghijklmnopqponmlkjihgfedcba\n",
      "        abcdefghijklmnopqrqponmlkjihgfedcba\n",
      "       abcdefghijklmnopqrsrqponmlkjihgfedcba\n",
      "      abcdefghijklmnopqrstsrqponmlkjihgfedcba\n",
      "     abcdefghijklmnopqrstutsrqponmlkjihgfedcba\n",
      "    abcdefghijklmnopqrstuvutsrqponmlkjihgfedcba\n",
      "   abcdefghijklmnopqrstuvwvutsrqponmlkjihgfedcba\n",
      "  abcdefghijklmnopqrstuvwxwvutsrqponmlkjihgfedcba\n",
      " abcdefghijklmnopqrstuvwxyxwvutsrqponmlkjihgfedcba\n",
      "abcdefghijklmnopqrstuvwxyzyxwvutsrqponmlkjihgfedcba\n",
      " abcdefghijklmnopqrstuvwxyxwvutsrqponmlkjihgfedcba\n",
      "  abcdefghijklmnopqrstuvwxwvutsrqponmlkjihgfedcba\n",
      "   abcdefghijklmnopqrstuvwvutsrqponmlkjihgfedcba\n",
      "    abcdefghijklmnopqrstuvutsrqponmlkjihgfedcba\n",
      "     abcdefghijklmnopqrstutsrqponmlkjihgfedcba\n",
      "      abcdefghijklmnopqrstsrqponmlkjihgfedcba\n",
      "       abcdefghijklmnopqrsrqponmlkjihgfedcba\n",
      "        abcdefghijklmnopqrqponmlkjihgfedcba\n",
      "         abcdefghijklmnopqponmlkjihgfedcba\n",
      "          abcdefghijklmnoponmlkjihgfedcba\n",
      "           abcdefghijklmnonmlkjihgfedcba\n",
      "            abcdefghijklmnmlkjihgfedcba\n",
      "             abcdefghijklmlkjihgfedcba\n",
      "              abcdefghijklkjihgfedcba\n",
      "               abcdefghijkjihgfedcba\n",
      "                abcdefghijihgfedcba\n",
      "                 abcdefghihgfedcba\n",
      "                  abcdefghgfedcba\n",
      "                   abcdefgfedcba\n",
      "                    abcdefedcba\n",
      "                     abcdedcba\n",
      "                      abcdcba\n",
      "                       abcba\n",
      "                        aba\n",
      "                         a\n"
     ]
    }
   ],
   "source": [
    "word=input(\"Enter characters: \")\n",
    "length=len(word)\n",
    "for i in range (0, length):\n",
    "    for j in range(length-i-1):\n",
    "        print(' ', end=\"\")\n",
    "    for j in range(0, i+1):\n",
    "        print(word[j], end=\"\")\n",
    "k\n",
    "        print (word[k], end=\"\")\n",
    "    print()\n",
    "for l in range (1,length):\n",
    "    for j in range(l) :\n",
    "        print(' ', end=\"\")\n",
    "    for m in range (0,length-l-1):\n",
    "        print(word[m], end =\"\")\n",
    "    for n in range (length-l-1,-1,-1):\n",
    "        print(word[n], end=\"\")\n",
    "    print()"
   ]
  },
  {
   "cell_type": "code",
   "execution_count": 110,
   "metadata": {},
   "outputs": [
    {
     "name": "stdout",
     "output_type": "stream",
     "text": [
      "[5, 12, 19, 26, 33, 40, 47, 54, 61, 68, 75, 82, 89, 96, 103]\n"
     ]
    }
   ],
   "source": [
    "l1 = []\n",
    "i = 5\n",
    "while i < 110:\n",
    "    l1.append(i)\n",
    "    i += 7\n",
    "print(l1)"
   ]
  },
  {
   "cell_type": "code",
   "execution_count": 112,
   "metadata": {},
   "outputs": [
    {
     "data": {
      "text/plain": [
       "[5, 12, 19, 26, 33, 40, 47, 54, 61, 68, 75, 82, 89, 96, 103]"
      ]
     },
     "execution_count": 112,
     "metadata": {},
     "output_type": "execute_result"
    }
   ],
   "source": [
    "l1 = list(range(5,110,7))\n",
    "l1"
   ]
  },
  {
   "cell_type": "markdown",
   "metadata": {},
   "source": [
    "What is the value of the expression `dct[‘fish’]` after the following code is executed?"
   ]
  },
  {
   "cell_type": "code",
   "execution_count": 116,
   "metadata": {},
   "outputs": [
    {
     "data": {
      "text/plain": [
       "{'one': [1, 0], 'fish': [4, 7], 'two': [1, 2], 'red': [1, 4], 'blue': [1, 6]}"
      ]
     },
     "execution_count": 116,
     "metadata": {},
     "output_type": "execute_result"
    }
   ],
   "source": [
    "words = ['one', 'fish', 'two', 'fish', 'red', 'fish', 'blue', 'fish']\n",
    "dct = {}\n",
    "for i in range(len(words)):\n",
    "    w = words[i]\n",
    "    if w in dct:\n",
    "        dct[w][0] += 1\n",
    "        dct[w][1] = i\n",
    "    else:\n",
    "        dct[w] = [1, i]\n",
    "dct"
   ]
  },
  {
   "cell_type": "markdown",
   "metadata": {},
   "source": [
    "What are the contents of l2 after the following code is executed?"
   ]
  },
  {
   "cell_type": "code",
   "execution_count": 118,
   "metadata": {},
   "outputs": [
    {
     "data": {
      "text/plain": [
       "[('one', 'two'), ('two', 'three')]"
      ]
     },
     "execution_count": 118,
     "metadata": {},
     "output_type": "execute_result"
    }
   ],
   "source": [
    "l1 = ['one', 'two', 'three']\n",
    "l2 = [(l1[i], l1[i+1]) for i in range(len(l1)-1)]\n",
    "l2"
   ]
  },
  {
   "cell_type": "markdown",
   "metadata": {},
   "source": [
    "What is the value of a after the following code is executed?"
   ]
  },
  {
   "cell_type": "code",
   "execution_count": 121,
   "metadata": {},
   "outputs": [
    {
     "data": {
      "text/plain": [
       "32"
      ]
     },
     "execution_count": 121,
     "metadata": {},
     "output_type": "execute_result"
    }
   ],
   "source": [
    "#The underscore is used for ignoring the specific values. \n",
    "#If you don’t need the specific values or the values are not used, \n",
    "#just assign the values to underscore.\n",
    "a = 1\n",
    "b = 2\n",
    "for _ in range(5):\n",
    "    a, b = b, 2*b\n",
    "a"
   ]
  },
  {
   "cell_type": "markdown",
   "metadata": {},
   "source": [
    "For this and the next problem, consider the following function definition:"
   ]
  },
  {
   "cell_type": "code",
   "execution_count": 122,
   "metadata": {},
   "outputs": [],
   "source": [
    "def foo(a, b=5, c=10):\n",
    "    return a+b+c"
   ]
  },
  {
   "cell_type": "markdown",
   "metadata": {},
   "source": [
    "What is the return value of the call foo(1, 2, 3)?"
   ]
  },
  {
   "cell_type": "code",
   "execution_count": 125,
   "metadata": {},
   "outputs": [
    {
     "data": {
      "text/plain": [
       "(6, 15)"
      ]
     },
     "execution_count": 125,
     "metadata": {},
     "output_type": "execute_result"
    }
   ],
   "source": [
    "foo(1, 2, 3), foo(2, 3)"
   ]
  },
  {
   "cell_type": "code",
   "execution_count": 131,
   "metadata": {},
   "outputs": [
    {
     "data": {
      "text/plain": [
       "[(0, 'h'), (0, 'i'), (1, 'h'), (1, 'i'), (2, 'h'), (2, 'i')]"
      ]
     },
     "execution_count": 131,
     "metadata": {},
     "output_type": "execute_result"
    }
   ],
   "source": [
    "[(x,y) for x in range(3) for y in 'hi']"
   ]
  },
  {
   "cell_type": "code",
   "execution_count": 132,
   "metadata": {},
   "outputs": [
    {
     "data": {
      "text/plain": [
       "{11: (1, 10), 21: (1, 20), 12: (2, 10), 22: (2, 20)}"
      ]
     },
     "execution_count": 132,
     "metadata": {},
     "output_type": "execute_result"
    }
   ],
   "source": [
    "{x+y: (x, y) for x in range(1, 3) for y in range(10, 30, 10)}"
   ]
  },
  {
   "cell_type": "code",
   "execution_count": 166,
   "metadata": {},
   "outputs": [
    {
     "name": "stdout",
     "output_type": "stream",
     "text": [
      "Enter characters: abcd\n",
      "   a\n",
      "  aba\n",
      " abcba\n",
      "abcdcba\n"
     ]
    }
   ],
   "source": [
    "word=input(\"Enter characters: \")\n",
    "length=len(word)\n",
    "for i in range (0, length):\n",
    "    for j in range(length -i -1):\n",
    "        print(' ', end = '')\n",
    "    for k in range(0, i+1):\n",
    "        print(word[k], end='')\n",
    "    for l in range(i-1, -1, -1):\n",
    "        print(word[l], end = '')\n",
    "    print()"
   ]
  },
  {
   "cell_type": "code",
   "execution_count": 163,
   "metadata": {},
   "outputs": [
    {
     "name": "stdout",
     "output_type": "stream",
     "text": [
      "10"
     ]
    }
   ],
   "source": [
    "for i in range(1, -1, -1):\n",
    "    print(i, end='')\n"
   ]
  },
  {
   "cell_type": "code",
   "execution_count": 172,
   "metadata": {},
   "outputs": [
    {
     "name": "stdout",
     "output_type": "stream",
     "text": [
      "0123 0123  0123   0123"
     ]
    }
   ],
   "source": [
    "for i in range(0, 4):\n",
    "    for j in range(i):\n",
    "        print(' ', end='')\n",
    "    for k in range(0, 4):\n",
    "        print(k, end='')"
   ]
  },
  {
   "cell_type": "code",
   "execution_count": null,
   "metadata": {},
   "outputs": [],
   "source": []
  }
 ],
 "metadata": {
  "kernelspec": {
   "display_name": "Python 3",
   "language": "python",
   "name": "python3"
  },
  "language_info": {
   "codemirror_mode": {
    "name": "ipython",
    "version": 3
   },
   "file_extension": ".py",
   "mimetype": "text/x-python",
   "name": "python",
   "nbconvert_exporter": "python",
   "pygments_lexer": "ipython3",
   "version": "3.6.5"
  }
 },
 "nbformat": 4,
 "nbformat_minor": 2
}
